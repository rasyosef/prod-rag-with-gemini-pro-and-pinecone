{
  "nbformat": 4,
  "nbformat_minor": 0,
  "metadata": {
    "colab": {
      "provenance": []
    },
    "kernelspec": {
      "name": "python3",
      "display_name": "Python 3"
    },
    "language_info": {
      "name": "python"
    },
    "widgets": {
      "application/vnd.jupyter.widget-state+json": {
        "3874de47a1864a07b41cd94c1fa653eb": {
          "model_module": "@jupyter-widgets/controls",
          "model_name": "HBoxModel",
          "model_module_version": "1.5.0",
          "state": {
            "_dom_classes": [],
            "_model_module": "@jupyter-widgets/controls",
            "_model_module_version": "1.5.0",
            "_model_name": "HBoxModel",
            "_view_count": null,
            "_view_module": "@jupyter-widgets/controls",
            "_view_module_version": "1.5.0",
            "_view_name": "HBoxView",
            "box_style": "",
            "children": [
              "IPY_MODEL_432b52dd683c4a13bb9e45ab8681ce02",
              "IPY_MODEL_8def95c684a6419cb5c3a267b38b1f99",
              "IPY_MODEL_d73e67dd9ba340c69248447829fd1b1c"
            ],
            "layout": "IPY_MODEL_d5b731e581d949aab64212e000390229"
          }
        },
        "432b52dd683c4a13bb9e45ab8681ce02": {
          "model_module": "@jupyter-widgets/controls",
          "model_name": "HTMLModel",
          "model_module_version": "1.5.0",
          "state": {
            "_dom_classes": [],
            "_model_module": "@jupyter-widgets/controls",
            "_model_module_version": "1.5.0",
            "_model_name": "HTMLModel",
            "_view_count": null,
            "_view_module": "@jupyter-widgets/controls",
            "_view_module_version": "1.5.0",
            "_view_name": "HTMLView",
            "description": "",
            "description_tooltip": null,
            "layout": "IPY_MODEL_5e9c02020b1c4e829d0123e11404c247",
            "placeholder": "​",
            "style": "IPY_MODEL_b07c7872434944c490506c2a9d9986ed",
            "value": "Upserted vectors: 100%"
          }
        },
        "8def95c684a6419cb5c3a267b38b1f99": {
          "model_module": "@jupyter-widgets/controls",
          "model_name": "FloatProgressModel",
          "model_module_version": "1.5.0",
          "state": {
            "_dom_classes": [],
            "_model_module": "@jupyter-widgets/controls",
            "_model_module_version": "1.5.0",
            "_model_name": "FloatProgressModel",
            "_view_count": null,
            "_view_module": "@jupyter-widgets/controls",
            "_view_module_version": "1.5.0",
            "_view_name": "ProgressView",
            "bar_style": "success",
            "description": "",
            "description_tooltip": null,
            "layout": "IPY_MODEL_2117165480304c6a96a455f275b158be",
            "max": 50,
            "min": 0,
            "orientation": "horizontal",
            "style": "IPY_MODEL_868abde31543413d9b64c5c85f8d8b04",
            "value": 50
          }
        },
        "d73e67dd9ba340c69248447829fd1b1c": {
          "model_module": "@jupyter-widgets/controls",
          "model_name": "HTMLModel",
          "model_module_version": "1.5.0",
          "state": {
            "_dom_classes": [],
            "_model_module": "@jupyter-widgets/controls",
            "_model_module_version": "1.5.0",
            "_model_name": "HTMLModel",
            "_view_count": null,
            "_view_module": "@jupyter-widgets/controls",
            "_view_module_version": "1.5.0",
            "_view_name": "HTMLView",
            "description": "",
            "description_tooltip": null,
            "layout": "IPY_MODEL_f6887d7751774eb593119e0ba1b7342e",
            "placeholder": "​",
            "style": "IPY_MODEL_0c3707246466406a838a4b92cfb6b90e",
            "value": " 50/50 [00:16&lt;00:00, 44.13it/s]"
          }
        },
        "d5b731e581d949aab64212e000390229": {
          "model_module": "@jupyter-widgets/base",
          "model_name": "LayoutModel",
          "model_module_version": "1.2.0",
          "state": {
            "_model_module": "@jupyter-widgets/base",
            "_model_module_version": "1.2.0",
            "_model_name": "LayoutModel",
            "_view_count": null,
            "_view_module": "@jupyter-widgets/base",
            "_view_module_version": "1.2.0",
            "_view_name": "LayoutView",
            "align_content": null,
            "align_items": null,
            "align_self": null,
            "border": null,
            "bottom": null,
            "display": null,
            "flex": null,
            "flex_flow": null,
            "grid_area": null,
            "grid_auto_columns": null,
            "grid_auto_flow": null,
            "grid_auto_rows": null,
            "grid_column": null,
            "grid_gap": null,
            "grid_row": null,
            "grid_template_areas": null,
            "grid_template_columns": null,
            "grid_template_rows": null,
            "height": null,
            "justify_content": null,
            "justify_items": null,
            "left": null,
            "margin": null,
            "max_height": null,
            "max_width": null,
            "min_height": null,
            "min_width": null,
            "object_fit": null,
            "object_position": null,
            "order": null,
            "overflow": null,
            "overflow_x": null,
            "overflow_y": null,
            "padding": null,
            "right": null,
            "top": null,
            "visibility": null,
            "width": null
          }
        },
        "5e9c02020b1c4e829d0123e11404c247": {
          "model_module": "@jupyter-widgets/base",
          "model_name": "LayoutModel",
          "model_module_version": "1.2.0",
          "state": {
            "_model_module": "@jupyter-widgets/base",
            "_model_module_version": "1.2.0",
            "_model_name": "LayoutModel",
            "_view_count": null,
            "_view_module": "@jupyter-widgets/base",
            "_view_module_version": "1.2.0",
            "_view_name": "LayoutView",
            "align_content": null,
            "align_items": null,
            "align_self": null,
            "border": null,
            "bottom": null,
            "display": null,
            "flex": null,
            "flex_flow": null,
            "grid_area": null,
            "grid_auto_columns": null,
            "grid_auto_flow": null,
            "grid_auto_rows": null,
            "grid_column": null,
            "grid_gap": null,
            "grid_row": null,
            "grid_template_areas": null,
            "grid_template_columns": null,
            "grid_template_rows": null,
            "height": null,
            "justify_content": null,
            "justify_items": null,
            "left": null,
            "margin": null,
            "max_height": null,
            "max_width": null,
            "min_height": null,
            "min_width": null,
            "object_fit": null,
            "object_position": null,
            "order": null,
            "overflow": null,
            "overflow_x": null,
            "overflow_y": null,
            "padding": null,
            "right": null,
            "top": null,
            "visibility": null,
            "width": null
          }
        },
        "b07c7872434944c490506c2a9d9986ed": {
          "model_module": "@jupyter-widgets/controls",
          "model_name": "DescriptionStyleModel",
          "model_module_version": "1.5.0",
          "state": {
            "_model_module": "@jupyter-widgets/controls",
            "_model_module_version": "1.5.0",
            "_model_name": "DescriptionStyleModel",
            "_view_count": null,
            "_view_module": "@jupyter-widgets/base",
            "_view_module_version": "1.2.0",
            "_view_name": "StyleView",
            "description_width": ""
          }
        },
        "2117165480304c6a96a455f275b158be": {
          "model_module": "@jupyter-widgets/base",
          "model_name": "LayoutModel",
          "model_module_version": "1.2.0",
          "state": {
            "_model_module": "@jupyter-widgets/base",
            "_model_module_version": "1.2.0",
            "_model_name": "LayoutModel",
            "_view_count": null,
            "_view_module": "@jupyter-widgets/base",
            "_view_module_version": "1.2.0",
            "_view_name": "LayoutView",
            "align_content": null,
            "align_items": null,
            "align_self": null,
            "border": null,
            "bottom": null,
            "display": null,
            "flex": null,
            "flex_flow": null,
            "grid_area": null,
            "grid_auto_columns": null,
            "grid_auto_flow": null,
            "grid_auto_rows": null,
            "grid_column": null,
            "grid_gap": null,
            "grid_row": null,
            "grid_template_areas": null,
            "grid_template_columns": null,
            "grid_template_rows": null,
            "height": null,
            "justify_content": null,
            "justify_items": null,
            "left": null,
            "margin": null,
            "max_height": null,
            "max_width": null,
            "min_height": null,
            "min_width": null,
            "object_fit": null,
            "object_position": null,
            "order": null,
            "overflow": null,
            "overflow_x": null,
            "overflow_y": null,
            "padding": null,
            "right": null,
            "top": null,
            "visibility": null,
            "width": null
          }
        },
        "868abde31543413d9b64c5c85f8d8b04": {
          "model_module": "@jupyter-widgets/controls",
          "model_name": "ProgressStyleModel",
          "model_module_version": "1.5.0",
          "state": {
            "_model_module": "@jupyter-widgets/controls",
            "_model_module_version": "1.5.0",
            "_model_name": "ProgressStyleModel",
            "_view_count": null,
            "_view_module": "@jupyter-widgets/base",
            "_view_module_version": "1.2.0",
            "_view_name": "StyleView",
            "bar_color": null,
            "description_width": ""
          }
        },
        "f6887d7751774eb593119e0ba1b7342e": {
          "model_module": "@jupyter-widgets/base",
          "model_name": "LayoutModel",
          "model_module_version": "1.2.0",
          "state": {
            "_model_module": "@jupyter-widgets/base",
            "_model_module_version": "1.2.0",
            "_model_name": "LayoutModel",
            "_view_count": null,
            "_view_module": "@jupyter-widgets/base",
            "_view_module_version": "1.2.0",
            "_view_name": "LayoutView",
            "align_content": null,
            "align_items": null,
            "align_self": null,
            "border": null,
            "bottom": null,
            "display": null,
            "flex": null,
            "flex_flow": null,
            "grid_area": null,
            "grid_auto_columns": null,
            "grid_auto_flow": null,
            "grid_auto_rows": null,
            "grid_column": null,
            "grid_gap": null,
            "grid_row": null,
            "grid_template_areas": null,
            "grid_template_columns": null,
            "grid_template_rows": null,
            "height": null,
            "justify_content": null,
            "justify_items": null,
            "left": null,
            "margin": null,
            "max_height": null,
            "max_width": null,
            "min_height": null,
            "min_width": null,
            "object_fit": null,
            "object_position": null,
            "order": null,
            "overflow": null,
            "overflow_x": null,
            "overflow_y": null,
            "padding": null,
            "right": null,
            "top": null,
            "visibility": null,
            "width": null
          }
        },
        "0c3707246466406a838a4b92cfb6b90e": {
          "model_module": "@jupyter-widgets/controls",
          "model_name": "DescriptionStyleModel",
          "model_module_version": "1.5.0",
          "state": {
            "_model_module": "@jupyter-widgets/controls",
            "_model_module_version": "1.5.0",
            "_model_name": "DescriptionStyleModel",
            "_view_count": null,
            "_view_module": "@jupyter-widgets/base",
            "_view_module_version": "1.2.0",
            "_view_name": "StyleView",
            "description_width": ""
          }
        }
      }
    }
  },
  "cells": [
    {
      "cell_type": "markdown",
      "source": [
        "### **Setup**"
      ],
      "metadata": {
        "id": "48waQhWQQzvQ"
      }
    },
    {
      "cell_type": "code",
      "execution_count": 39,
      "metadata": {
        "id": "_kLTzeF4KrTs"
      },
      "outputs": [],
      "source": [
        "! pip install --upgrade --quiet llama-index llama-index-llms-gemini llama-index-embeddings-gemini llama-index-vector-stores-pinecone pinecone-client"
      ]
    },
    {
      "cell_type": "code",
      "source": [
        "! wget https://huggingface.co/spaces/rasyosef/RAG-with-Phi-2-and-LangChain/raw/main/Oppenheimer-movie-wiki.txt -P ./data"
      ],
      "metadata": {
        "colab": {
          "base_uri": "https://localhost:8080/"
        },
        "id": "yGl2rrSjPdKc",
        "outputId": "01d7d57a-5b14-4380-f577-9a3638a6d5ca"
      },
      "execution_count": 40,
      "outputs": [
        {
          "output_type": "stream",
          "name": "stdout",
          "text": [
            "--2024-06-01 00:49:01--  https://huggingface.co/spaces/rasyosef/RAG-with-Phi-2-and-LangChain/raw/main/Oppenheimer-movie-wiki.txt\n",
            "Resolving huggingface.co (huggingface.co)... 18.238.49.117, 18.238.49.70, 18.238.49.10, ...\n",
            "Connecting to huggingface.co (huggingface.co)|18.238.49.117|:443... connected.\n",
            "HTTP request sent, awaiting response... 200 OK\n",
            "Length: 51987 (51K) [text/plain]\n",
            "Saving to: ‘./data/Oppenheimer-movie-wiki.txt.1’\n",
            "\n",
            "Oppenheimer-movie-w 100%[===================>]  50.77K  --.-KB/s    in 0.07s   \n",
            "\n",
            "2024-06-01 00:49:01 (679 KB/s) - ‘./data/Oppenheimer-movie-wiki.txt.1’ saved [51987/51987]\n",
            "\n"
          ]
        }
      ]
    },
    {
      "cell_type": "code",
      "source": [
        "import os\n",
        "from google.colab import userdata\n",
        "\n",
        "os.environ[\"GOOGLE_API_KEY\"] = userdata.get(\"GEMINI_API_KEY\")\n",
        "os.environ[\"PINECONE_API_KEY\"] = userdata.get(\"PINECONE_API_KEY\")"
      ],
      "metadata": {
        "id": "-gu5Am34Q2DT"
      },
      "execution_count": 41,
      "outputs": []
    },
    {
      "cell_type": "markdown",
      "source": [
        "### **Load Data**"
      ],
      "metadata": {
        "id": "IFGG4J2kSMA9"
      }
    },
    {
      "cell_type": "code",
      "source": [
        "from llama_index.core import SimpleDirectoryReader\n",
        "\n",
        "reader = SimpleDirectoryReader(input_dir=\"./data\")\n",
        "documents = reader.load_data()\n",
        "\n",
        "print(\"Number of Documents:\", len(documents))"
      ],
      "metadata": {
        "colab": {
          "base_uri": "https://localhost:8080/"
        },
        "id": "8kHtPuPsRrnX",
        "outputId": "7f3c59df-cb5c-414d-f4f5-0af20ded2161"
      },
      "execution_count": 42,
      "outputs": [
        {
          "output_type": "stream",
          "name": "stdout",
          "text": [
            "Number of Documents: 2\n"
          ]
        }
      ]
    },
    {
      "cell_type": "code",
      "source": [
        "from llama_index.core.node_parser import SentenceSplitter\n",
        "\n",
        "node_parser = SentenceSplitter(chunk_size=512, chunk_overlap=32)\n",
        "nodes = node_parser.get_nodes_from_documents(documents)\n",
        "\n",
        "print(\"Number of Nodes:\", len(nodes))"
      ],
      "metadata": {
        "colab": {
          "base_uri": "https://localhost:8080/"
        },
        "id": "zED3npnyTl1J",
        "outputId": "68ba318e-7d86-4d6f-af74-316b00923ca5"
      },
      "execution_count": 43,
      "outputs": [
        {
          "output_type": "stream",
          "name": "stdout",
          "text": [
            "Number of Nodes: 50\n"
          ]
        }
      ]
    },
    {
      "cell_type": "markdown",
      "source": [
        "### **Embeddings**"
      ],
      "metadata": {
        "id": "dtU6Cl3_UUZe"
      }
    },
    {
      "cell_type": "code",
      "source": [
        "from llama_index.embeddings.gemini import GeminiEmbedding\n",
        "\n",
        "embed_model = GeminiEmbedding(\n",
        "    model=\"models/embedding-004\",\n",
        "    title=\"wikipedia page of the 'Oppenheimer' movie\",\n",
        "    embed_batch_size=16\n",
        ")"
      ],
      "metadata": {
        "id": "GFWsC728USW-"
      },
      "execution_count": 44,
      "outputs": []
    },
    {
      "cell_type": "markdown",
      "source": [
        "### **Pinecone Vector Store**"
      ],
      "metadata": {
        "id": "fg0AqoAuWW5H"
      }
    },
    {
      "cell_type": "code",
      "source": [
        "from pinecone import Pinecone, ServerlessSpec\n",
        "\n",
        "pinecone = Pinecone()\n",
        "pinecone"
      ],
      "metadata": {
        "colab": {
          "base_uri": "https://localhost:8080/"
        },
        "id": "KlTrombeWRae",
        "outputId": "0da4370a-9e8b-4aa6-de5a-38a9558c1b9f"
      },
      "execution_count": 45,
      "outputs": [
        {
          "output_type": "execute_result",
          "data": {
            "text/plain": [
              "<pinecone.control.pinecone.Pinecone at 0x7ca554db3f70>"
            ]
          },
          "metadata": {},
          "execution_count": 45
        }
      ]
    },
    {
      "cell_type": "code",
      "source": [
        "INDEX_NAME = \"rag\"\n",
        "\n",
        "if INDEX_NAME in pinecone.list_indexes().names():\n",
        "  pinecone.delete_index(INDEX_NAME)\n",
        "\n",
        "pinecone.create_index(\n",
        "    name=INDEX_NAME,\n",
        "    dimension=768,\n",
        "    metric=\"dotproduct\",\n",
        "    spec=ServerlessSpec(cloud=\"aws\", region=\"us-east-1\"),\n",
        ")"
      ],
      "metadata": {
        "id": "_3_VyWjBXJoz"
      },
      "execution_count": 46,
      "outputs": []
    },
    {
      "cell_type": "code",
      "source": [
        "pinecone_index = pinecone.Index(INDEX_NAME)"
      ],
      "metadata": {
        "id": "YadLBYxNY9eK"
      },
      "execution_count": 47,
      "outputs": []
    },
    {
      "cell_type": "code",
      "source": [
        "from llama_index.vector_stores.pinecone import PineconeVectorStore\n",
        "from llama_index.core.indices import VectorStoreIndex\n",
        "from llama_index.core import StorageContext\n",
        "\n",
        "vector_store = PineconeVectorStore(pinecone_index=pinecone_index)\n",
        "storage_context = StorageContext.from_defaults(vector_store=vector_store)"
      ],
      "metadata": {
        "id": "_zr9nhEVbKUK"
      },
      "execution_count": 48,
      "outputs": []
    },
    {
      "cell_type": "code",
      "source": [
        "index = VectorStoreIndex(\n",
        "    nodes=nodes,\n",
        "    storage_context=storage_context,\n",
        "    embed_model=embed_model\n",
        ")"
      ],
      "metadata": {
        "colab": {
          "base_uri": "https://localhost:8080/",
          "height": 49,
          "referenced_widgets": [
            "3874de47a1864a07b41cd94c1fa653eb",
            "432b52dd683c4a13bb9e45ab8681ce02",
            "8def95c684a6419cb5c3a267b38b1f99",
            "d73e67dd9ba340c69248447829fd1b1c",
            "d5b731e581d949aab64212e000390229",
            "5e9c02020b1c4e829d0123e11404c247",
            "b07c7872434944c490506c2a9d9986ed",
            "2117165480304c6a96a455f275b158be",
            "868abde31543413d9b64c5c85f8d8b04",
            "f6887d7751774eb593119e0ba1b7342e",
            "0c3707246466406a838a4b92cfb6b90e"
          ]
        },
        "id": "4AJXwh-zcq16",
        "outputId": "96afb1b0-562e-48b7-81a4-997c19d896e7"
      },
      "execution_count": 49,
      "outputs": [
        {
          "output_type": "display_data",
          "data": {
            "text/plain": [
              "Upserted vectors:   0%|          | 0/50 [00:00<?, ?it/s]"
            ],
            "application/vnd.jupyter.widget-view+json": {
              "version_major": 2,
              "version_minor": 0,
              "model_id": "3874de47a1864a07b41cd94c1fa653eb"
            }
          },
          "metadata": {}
        }
      ]
    },
    {
      "cell_type": "markdown",
      "source": [
        "### **Query Engine**"
      ],
      "metadata": {
        "id": "bNGi4pLJd2A5"
      }
    },
    {
      "cell_type": "code",
      "source": [
        "from google.generativeai.types import HarmCategory, HarmBlockThreshold\n",
        "\n",
        "#BLOCK_ONLY_HIGH\n",
        "safety_settings={\n",
        "  HarmCategory.HARM_CATEGORY_HATE_SPEECH: HarmBlockThreshold.BLOCK_NONE,\n",
        "  HarmCategory.HARM_CATEGORY_HARASSMENT: HarmBlockThreshold.BLOCK_NONE,\n",
        "  HarmCategory.HARM_CATEGORY_SEXUALLY_EXPLICIT: HarmBlockThreshold.BLOCK_NONE,\n",
        "  HarmCategory.HARM_CATEGORY_DANGEROUS_CONTENT: HarmBlockThreshold.BLOCK_NONE,\n",
        "}"
      ],
      "metadata": {
        "id": "pWlw-87EoYqq"
      },
      "execution_count": 50,
      "outputs": []
    },
    {
      "cell_type": "code",
      "source": [
        "from llama_index.llms.gemini import Gemini\n",
        "\n",
        "llm = Gemini(\n",
        "    model_name=\"models/gemini-pro\",\n",
        "    temperature=0,\n",
        "    max_tokens=256,\n",
        "    safety_settings=safety_settings\n",
        ")"
      ],
      "metadata": {
        "id": "C_xk1N41c-6W"
      },
      "execution_count": 51,
      "outputs": []
    },
    {
      "cell_type": "code",
      "source": [
        "query_engine = index.as_query_engine(\n",
        "    llm=llm,\n",
        "    similarity_top_k=3,\n",
        ")"
      ],
      "metadata": {
        "id": "1tedMgNaexBI"
      },
      "execution_count": 52,
      "outputs": []
    },
    {
      "cell_type": "code",
      "source": [
        "response = query_engine.query(\"What's the name of the actor that played Lewis Strauss?\")\n",
        "response.response"
      ],
      "metadata": {
        "colab": {
          "base_uri": "https://localhost:8080/",
          "height": 35
        },
        "id": "EyNIopAffZPq",
        "outputId": "3175d0da-d173-43bf-a3fc-66d726d9f25d"
      },
      "execution_count": 53,
      "outputs": [
        {
          "output_type": "execute_result",
          "data": {
            "text/plain": [
              "'Robert Downey Jr.'"
            ],
            "application/vnd.google.colaboratory.intrinsic+json": {
              "type": "string"
            }
          },
          "metadata": {},
          "execution_count": 53
        }
      ]
    },
    {
      "cell_type": "code",
      "source": [
        "response = query_engine.query(\"Who is Boris Pash?\")\n",
        "response.response"
      ],
      "metadata": {
        "id": "QO3jyLcRPZU-",
        "colab": {
          "base_uri": "https://localhost:8080/",
          "height": 53
        },
        "outputId": "039e12ad-10e6-46e8-ba80-733b0084844d"
      },
      "execution_count": 54,
      "outputs": [
        {
          "output_type": "execute_result",
          "data": {
            "text/plain": [
              "'Boris Pash is a U.S. Army military intelligence officer and commander of the Alsos Mission.'"
            ],
            "application/vnd.google.colaboratory.intrinsic+json": {
              "type": "string"
            }
          },
          "metadata": {},
          "execution_count": 54
        }
      ]
    },
    {
      "cell_type": "code",
      "source": [
        "response = query_engine.query(\"How much money did the Oppenheimer movie make at the US and global box office?\")\n",
        "response.response"
      ],
      "metadata": {
        "colab": {
          "base_uri": "https://localhost:8080/",
          "height": 70
        },
        "id": "HGiGkxQDc1zX",
        "outputId": "870a79be-f2b4-4375-884a-d1896bab5548"
      },
      "execution_count": 55,
      "outputs": [
        {
          "output_type": "execute_result",
          "data": {
            "text/plain": [
              "'In the United States and Canada, Oppenheimer grossed $326.4 million, while in other territories, it grossed $628.9 million, for a worldwide total of $955.3 million.'"
            ],
            "application/vnd.google.colaboratory.intrinsic+json": {
              "type": "string"
            }
          },
          "metadata": {},
          "execution_count": 55
        }
      ]
    },
    {
      "cell_type": "code",
      "source": [
        "response = query_engine.query(\"What score did the Oppenheimer movie get on Rotten Tomatoes and Metacritic?\")\n",
        "response.response"
      ],
      "metadata": {
        "colab": {
          "base_uri": "https://localhost:8080/",
          "height": 70
        },
        "id": "44TXBx-edOOu",
        "outputId": "833bfebc-dfa9-4e9a-da69-69defd077f7a"
      },
      "execution_count": 56,
      "outputs": [
        {
          "output_type": "execute_result",
          "data": {
            "text/plain": [
              "'On Rotten Tomatoes, Oppenheimer received a score of 8.6/10 based on 495 critic reviews, with 93% of the reviews being positive. On Metacritic, the film received a score of 89 out of 100 based on 69 critic reviews, indicating \"universal acclaim\".'"
            ],
            "application/vnd.google.colaboratory.intrinsic+json": {
              "type": "string"
            }
          },
          "metadata": {},
          "execution_count": 56
        }
      ]
    },
    {
      "cell_type": "code",
      "source": [
        "response = query_engine.query(\"In the plot of the Oppenheimer movie, why did Lewis Strauss have a grudge against J. Robert Oppenheimer?\")\n",
        "response.response"
      ],
      "metadata": {
        "colab": {
          "base_uri": "https://localhost:8080/",
          "height": 105
        },
        "id": "vOQDB-5RK2rj",
        "outputId": "36641081-c929-46bf-ed80-11aae8147058"
      },
      "execution_count": 57,
      "outputs": [
        {
          "output_type": "execute_result",
          "data": {
            "text/plain": [
              "'Strauss resented Oppenheimer for having publicly humiliated him by dismissing his concerns about exporting radioisotopes and for recommending negotiations with the Soviet Union after they successfully detonated their own bomb. He also believes that Oppenheimer denigrated him during a conversation Oppenheimer had with Einstein in 1947.'"
            ],
            "application/vnd.google.colaboratory.intrinsic+json": {
              "type": "string"
            }
          },
          "metadata": {},
          "execution_count": 57
        }
      ]
    },
    {
      "cell_type": "code",
      "source": [
        "response = query_engine.query(\"What happened while Oppenheimer was a student at the University of Cambridge?\")\n",
        "response.response"
      ],
      "metadata": {
        "colab": {
          "base_uri": "https://localhost:8080/",
          "height": 87
        },
        "id": "G_p69rMMKFVJ",
        "outputId": "30fbb781-27a9-43ac-dc6e-9fae1486d3c4"
      },
      "execution_count": 58,
      "outputs": [
        {
          "output_type": "execute_result",
          "data": {
            "text/plain": [
              "'While studying at the University of Cambridge, Oppenheimer grappled with anxiety and homesickness. He left a poisoned apple for his professor, Patrick Blackett, but later retrieved it. Visiting scientist Niels Bohr recommended that Oppenheimer study theoretical physics at the University of Göttingen instead.'"
            ],
            "application/vnd.google.colaboratory.intrinsic+json": {
              "type": "string"
            }
          },
          "metadata": {},
          "execution_count": 58
        }
      ]
    },
    {
      "cell_type": "code",
      "source": [
        "response = query_engine.query(\"Which character did Matthias Schweighöfer play in the movie?\")\n",
        "response.response"
      ],
      "metadata": {
        "colab": {
          "base_uri": "https://localhost:8080/",
          "height": 53
        },
        "id": "bRf8_n4fO208",
        "outputId": "34181876-c3cc-4042-9ecd-4b9d3e23f308"
      },
      "execution_count": 59,
      "outputs": [
        {
          "output_type": "execute_result",
          "data": {
            "text/plain": [
              "'The provided context does not mention which character Matthias Schweighöfer played in the movie.'"
            ],
            "application/vnd.google.colaboratory.intrinsic+json": {
              "type": "string"
            }
          },
          "metadata": {},
          "execution_count": 59
        }
      ]
    },
    {
      "cell_type": "code",
      "source": [
        "response = query_engine.query(\"Which character did Casey Affleck portray in the movie?\")\n",
        "response.response"
      ],
      "metadata": {
        "colab": {
          "base_uri": "https://localhost:8080/",
          "height": 53
        },
        "id": "Qi4xJX19csdV",
        "outputId": "efc6010d-0cc1-419d-c9fb-b4ef345a6246"
      },
      "execution_count": 60,
      "outputs": [
        {
          "output_type": "execute_result",
          "data": {
            "text/plain": [
              "'The provided context does not mention Casey Affleck or the character he portrayed in the movie.'"
            ],
            "application/vnd.google.colaboratory.intrinsic+json": {
              "type": "string"
            }
          },
          "metadata": {},
          "execution_count": 60
        }
      ]
    },
    {
      "cell_type": "code",
      "source": [
        "sources = response.source_nodes\n",
        "for node in sources:\n",
        "  print(node.text)\n",
        "  print(\"\\n\\n------------------------------------------\\n\\n\")\n",
        "\n",
        "len(response.source_nodes)"
      ],
      "metadata": {
        "colab": {
          "base_uri": "https://localhost:8080/"
        },
        "id": "yFL05Dtbfka1",
        "outputId": "2e43e395-c5c2-4bfb-ecd3-15afee17faab"
      },
      "execution_count": 61,
      "outputs": [
        {
          "output_type": "stream",
          "name": "stdout",
          "text": [
            "\"[200]\n",
            "\n",
            "Despite praising the film's themes and performances, CNN's Brian Lowry believed that \"Nolan juggles a lot, in a way that somewhat works to the movie's detriment\".[201] While praising how the film acknowledges the contribution of \"American scientists and American enterprise\", Brett Mason complained it omits the crucial contributions of non-Americans that ensured the work was able to commence as early as December 1941: \"Nolan completely ignores the crucial role that British science and Australian physicist Mark Oliphant played in jump-starting the quest.\"[202] Writing for the Los Angeles Times, Justin Chang staunchly defended Nolan's accurate depiction of how Oppenheimer could not see the true victims of his work. Chang wrote that instead of satisfying \"representational completists\" by detouring to Hiroshima and Nagasaki, \"Nolan treats them instead as a profound absence, an indictment by silence\".[177]\n",
            "\n",
            "For IndieWire's annual critics poll, of which 158 critics and journalists from around the world voted in, Oppenheimer placed second in their Best Film list, with 69 overall mentions and 17 first-place votes. Nolan was also ranked second on the Best Director list, while his screenplay placed eighth. Murphy was the highest-placed actor on the Best Performance list (fourth overall), while Van Hoytema's work topped the Best Cinematography list.[203] Oppenheimer also appeared in over 330 critics' year-end lists of the best films released in 2023, and was ranked first in 77 lists.[204]\n",
            "\n",
            "Oppenheimer was also praised by other filmmakers. Oliver Stone deemed the film \"a classic, which I never believed could be made in this climate.\"[205] Paul Schrader called Oppenheimer, \"the best, most important film of this century\",[206] while Denis Villeneuve called it \"a masterpiece\".[207] Steven Soderbergh said of the film, \"Oppenheimer is a real accomplishment. I read somewhere that Chris [Nolan] implied that this is the movie he's been building toward, and I think he's right. And I'm thrilled that it's a massive hit.\n",
            "\n",
            "\n",
            "------------------------------------------\n",
            "\n",
            "\n",
            "\"[200]\n",
            "\n",
            "Despite praising the film's themes and performances, CNN's Brian Lowry believed that \"Nolan juggles a lot, in a way that somewhat works to the movie's detriment\".[201] While praising how the film acknowledges the contribution of \"American scientists and American enterprise\", Brett Mason complained it omits the crucial contributions of non-Americans that ensured the work was able to commence as early as December 1941: \"Nolan completely ignores the crucial role that British science and Australian physicist Mark Oliphant played in jump-starting the quest.\"[202] Writing for the Los Angeles Times, Justin Chang staunchly defended Nolan's accurate depiction of how Oppenheimer could not see the true victims of his work. Chang wrote that instead of satisfying \"representational completists\" by detouring to Hiroshima and Nagasaki, \"Nolan treats them instead as a profound absence, an indictment by silence\".[177]\n",
            "\n",
            "For IndieWire's annual critics poll, of which 158 critics and journalists from around the world voted in, Oppenheimer placed second in their Best Film list, with 69 overall mentions and 17 first-place votes. Nolan was also ranked second on the Best Director list, while his screenplay placed eighth. Murphy was the highest-placed actor on the Best Performance list (fourth overall), while Van Hoytema's work topped the Best Cinematography list.[203] Oppenheimer also appeared in over 330 critics' year-end lists of the best films released in 2023, and was ranked first in 77 lists.[204]\n",
            "\n",
            "Oppenheimer was also praised by other filmmakers. Oliver Stone deemed the film \"a classic, which I never believed could be made in this climate.\"[205] Paul Schrader called Oppenheimer, \"the best, most important film of this century\",[206] while Denis Villeneuve called it \"a masterpiece\".[207] Steven Soderbergh said of the film, \"Oppenheimer is a real accomplishment. I read somewhere that Chris [Nolan] implied that this is the movie he's been building toward, and I think he's right. And I'm thrilled that it's a massive hit.\n",
            "\n",
            "\n",
            "------------------------------------------\n",
            "\n",
            "\n",
            "[79] Downey would later describe Oppenheimer as \"the best film\" in which he has appeared to date.[80] Blunt met Nolan in Los Angeles and, when she was offered the role of Katherine \"Kitty\" Oppenheimer, she enthusiastically accepted; she also contacted Murphy to get an expectation of what working with Nolan would be like.[79] Asked to play the part of Leslie Groves, Damon—who had appeared in Nolan's Interstellar—was taking a break from acting as a result of negotiations with his wife in couples therapy, but signed on to Oppenheimer as he had reserved one exception: if Nolan offered him a role in a film.[81] Nolan cast writer-director Benny Safdie as physicist Edward Teller after asking director Paul Thomas Anderson about his experience directing Safdie in Licorice Pizza (2021).[82] Safdie had worked alongside a nuclear physicist at Columbia University while in high school.[66] It is Nolan's first film since Insomnia (2002) to not feature Michael Caine.[83]\n",
            "\n",
            "Filming\n",
            "Filming took place at the University of California, Berkeley in May 2022.\n",
            "Pre-production had begun by January 2022 in New Mexico, where a two-day casting call took place in Santa Fe and Los Alamos for people to audition to play local residents, military personnel, and scientists.[84][85] Another casting call was held in February.[86]\n",
            "\n",
            "Principal photography began on February 28, 2022, at Ghost Ranch in New Mexico,[87] and lasted for 57 days with Hoyte van Hoytema serving as cinematographer.[77][23] The original shooting schedule had set aside approximately 85 days for principal photography.[88] During pre-production, it had become clear that principal photography could not be completed within $100 million over that many days on location all over the United States.[88] To efficiently utilize the film's budget for location shooting in California and New Jersey and constructing high-quality historically accurate sets in New Mexico, Nolan compressed the shooting schedule to 55 days.[88] Murphy, who appears in nearly every scene, described the pace as \"insane\".[88]\n",
            "\n",
            "Gary Oldman said he would be on set for a day in May for \"one scene, a page and a half\".\n",
            "\n",
            "\n",
            "------------------------------------------\n",
            "\n",
            "\n"
          ]
        },
        {
          "output_type": "execute_result",
          "data": {
            "text/plain": [
              "3"
            ]
          },
          "metadata": {},
          "execution_count": 61
        }
      ]
    },
    {
      "cell_type": "markdown",
      "source": [
        "### **Reranking with ColBERT**"
      ],
      "metadata": {
        "id": "U6aCiuF0yaxQ"
      }
    },
    {
      "cell_type": "code",
      "source": [
        "! pip install --quiet llama-index-postprocessor-colbert-rerank"
      ],
      "metadata": {
        "id": "FDV7Vrg2f-8p"
      },
      "execution_count": null,
      "outputs": []
    },
    {
      "cell_type": "code",
      "source": [
        "from llama_index.postprocessor.colbert_rerank import ColbertRerank\n",
        "\n",
        "colbert_reranker = ColbertRerank(\n",
        "    top_n=3,\n",
        "    model=\"colbert-ir/colbertv2.0\",\n",
        "    tokenizer=\"colbert-ir/colbertv2.0\",\n",
        "    keep_retrieval_score=True\n",
        ")"
      ],
      "metadata": {
        "id": "9BGgEEZX10r_"
      },
      "execution_count": null,
      "outputs": []
    },
    {
      "cell_type": "code",
      "source": [
        "reranked_query_engine = index.as_query_engine(\n",
        "    llm=llm,\n",
        "    similarity_top_k=16,\n",
        "    node_postprocessors=[colbert_reranker],\n",
        ")"
      ],
      "metadata": {
        "id": "sAJh3cct17mF"
      },
      "execution_count": null,
      "outputs": []
    },
    {
      "cell_type": "code",
      "source": [
        "response = reranked_query_engine.query(\"Which character did Matthias Schweighöfer play in the movie?\")\n",
        "response.response"
      ],
      "metadata": {
        "colab": {
          "base_uri": "https://localhost:8080/",
          "height": 35
        },
        "outputId": "8ad904c9-a95b-40a7-e041-3106ae327f00",
        "id": "fDJ4YolRy-9N"
      },
      "execution_count": null,
      "outputs": [
        {
          "output_type": "execute_result",
          "data": {
            "text/plain": [
              "'Werner Heisenberg'"
            ],
            "application/vnd.google.colaboratory.intrinsic+json": {
              "type": "string"
            }
          },
          "metadata": {},
          "execution_count": 186
        }
      ]
    },
    {
      "cell_type": "code",
      "source": [
        "response = reranked_query_engine.query(\"Which character did Casey Affleck portray in the movie?\")\n",
        "response.response"
      ],
      "metadata": {
        "colab": {
          "base_uri": "https://localhost:8080/",
          "height": 35
        },
        "outputId": "ab7d70ce-95eb-40a1-f26f-ad25489f20e9",
        "id": "sl3HgVNry-9O"
      },
      "execution_count": null,
      "outputs": [
        {
          "output_type": "execute_result",
          "data": {
            "text/plain": [
              "'Boris Pash'"
            ],
            "application/vnd.google.colaboratory.intrinsic+json": {
              "type": "string"
            }
          },
          "metadata": {},
          "execution_count": 187
        }
      ]
    },
    {
      "cell_type": "code",
      "source": [
        "sources = response.source_nodes\n",
        "for node in sources:\n",
        "  print(node.text)\n",
        "  print(\"\\n\\n------------------------------------------\\n\\n\")\n",
        "\n",
        "len(response.source_nodes)"
      ],
      "metadata": {
        "colab": {
          "base_uri": "https://localhost:8080/"
        },
        "outputId": "1bfee3e9-21d2-4599-e5f6-3f05ae88d8b3",
        "id": "pdB74ufby-9O"
      },
      "execution_count": null,
      "outputs": [
        {
          "output_type": "stream",
          "name": "stdout",
          "text": [
            "Oppenheimer is a 2023 epic biographical thriller film written and directed by Christopher Nolan. It stars Cillian Murphy as J. Robert Oppenheimer, the American theoretical physicist credited with being the \"father of the atomic bomb\" for his role in the Manhattan Project—the World War II undertaking that developed the first nuclear weapons. Based on the 2005 biography American Prometheus by Kai Bird and Martin J. Sherwin, the film chronicles the career of Oppenheimer, with the story predominantly focusing on his studies, his direction of the Manhattan Project during World War II, and his eventual fall from grace due to his 1954 security hearing. The film also stars Emily Blunt as Oppenheimer's wife \"Kitty\", Matt Damon as head of the Manhattan Project Leslie Groves, Robert Downey Jr. as United States Atomic Energy Commission member Lewis Strauss, and Florence Pugh as Oppenheimer's communist lover Jean Tatlock. The ensemble supporting cast includes Josh Hartnett, Casey Affleck, Rami Malek, and Kenneth Branagh.\n",
            "\n",
            "The film was announced in September 2021 after Universal Pictures won a bidding war for Nolan's screenplay, following Nolan's conflict with longtime distributor Warner Bros. Pictures. Murphy was the first cast member to sign on the following month, with the rest of the cast joining between November 2021 and April 2022. Pre-production was under way by January 2022, and filming took place from February to May 2022. Oppenheimer was filmed in a combination of IMAX 65 mm and 65 mm large-format film, including, for the first time, scenes in IMAX black-and-white film photography. Like his previous works, Nolan made extensive use of practical effects, with minimal computer-generated imagery used to refine the effects. Editing was handled by Jennifer Lame, and the score was composed by Ludwig Göransson. The film was Nolan's first film to receive an R-rating in the United States since Insomnia in 2002.\n",
            "\n",
            "Oppenheimer premiered at Le Grand Rex in Paris on July 11, 2023, and was theatrically released in the United States and the United Kingdom on July 21 by Universal. Its simultaneous release with Warner Bros.'s Barbie led to the Barbenheimer cultural phenomenon, which encouraged audiences to see both films as a double feature.\n",
            "\n",
            "\n",
            "------------------------------------------\n",
            "\n",
            "\n",
            "In 1963, President Lyndon B. Johnson presents Oppenheimer with the Enrico Fermi Award as a gesture of political rehabilitation. A flashback reveals Oppenheimer and Einstein's 1947 conversation never mentioned Strauss. Oppenheimer instead expressed his belief that they had indeed started a chain reaction—a nuclear arms race—that would one day destroy the world.\n",
            "\n",
            "Cast\n",
            "Cillian Murphy as J. Robert Oppenheimer, a theoretical physicist and director of the Los Alamos National Laboratory.\n",
            "Emily Blunt as Katherine \"Kitty\" Oppenheimer, Robert Oppenheimer's wife and a former Communist Party USA member.\n",
            "Matt Damon as Gen. Leslie Groves, a United States Army Corps of Engineers (USACE) officer and director of the Manhattan Project.\n",
            "Robert Downey Jr. as Rear Admiral Lewis Strauss, a retired Naval officer and high-ranking member of the U.S. Atomic Energy Commission (AEC).\n",
            "Florence Pugh as Jean Tatlock, a psychiatrist, Communist Party USA member, and Robert Oppenheimer's romantic interest.\n",
            "Josh Hartnett as Ernest Lawrence, a Nobel-winning nuclear physicist who worked with Oppenheimer at the University of California, Berkeley.\n",
            "Casey Affleck as Boris Pash, a U.S. Army military intelligence officer and commander of the Alsos Mission.\n",
            "Rami Malek as David L. Hill, a nuclear physicist at the Met Lab, who helped to create the Chicago Pile.\n",
            "Kenneth Branagh as Niels Bohr, a Nobel-winning Danish physicist, philosopher and Oppenheimer's personal idol.\n",
            "Benny Safdie as Edward Teller, a Hungarian theoretical physicist known for being the \"father of the hydrogen bomb\".\n",
            "Jason Clarke as Roger Robb, an attorney and future U.S. circuit judge who served as special counsel to the AEC at Oppenheimer's security hearing.\n",
            "Dylan Arnold as Frank Oppenheimer, Robert's younger brother and a particle physicist who worked on the Manhattan Project.\n",
            "Tom Conti as Albert Einstein, Nobel-winning German theoretical physicist known for developing the theory of relativity.\n",
            "James D'Arcy as Patrick Blackett, Oppenheimer's college professor and Nobel-winning physicist at Cambridge University.\n",
            "David Dastmalchian as William L. Borden, a lawyer and executive director of the JCAE.\n",
            "Dane DeHaan as Maj Gen. Kenneth Nichols, a U.S.\n",
            "\n",
            "\n",
            "------------------------------------------\n",
            "\n",
            "\n",
            "[54] He wanted to execute a quick tonal shift after the atomic bombings of Hiroshima and Nagasaki, desiring to go from the \"highest triumphalism, the highest high, to the lowest low in the shortest amount of screen time possible\".[69] For the ending, Nolan chose to make it intentionally vague to be open to interpretation and refrained from being didactic or conveying specific messages in his work. However, he did have the intention to present a \"strong set of troubling reverberations at the end\".[73]\n",
            "\n",
            "Casting\n",
            "Oppenheimer marks the sixth collaboration between Nolan and Murphy, and the first starring Murphy as the lead. To prepare for the role, the actor did what he summarized as \"an awful lot of reading\" on Oppenheimer's life and had also been inspired by David Bowie's appearance in the 1970s.[75][9][66] Nolan called Murphy one day to ask him to play the part, and Murphy enthusiastically accepted and was excited to play a lead role in a Nolan film. Afterward, Nolan flew to Dublin to meet with Murphy, who read the script in Nolan's hotel room.[76] Murphy lost an undisclosed amount of weight for the role in order to better match the real-life Oppenheimer's gaunt appearance.[77] Nolan also set up a phone call between Murphy and Nobel laureate Kip Thorne, who had previously worked with Nolan on Interstellar (2014).[54] As a graduate student, Thorne had attended some of Oppenheimer's seminars, and explained to Murphy his experience with Oppenheimer's gift for facilitating group discussions of difficult scientific concepts.[54]\n",
            "\n",
            "The casting process was so secretive that some cast members did not know which role they would be playing until they signed on.[36] Robert Downey Jr., Matt Damon, and Emily Blunt took pay cuts to work on the film, with each earning $4 million in lieu of their usual $10–20 million upfront salary.[78] Downey went to Nolan's house to read the script, which was printed in black on red paper.[79] Downey would later describe Oppenheimer as \"the best film\" in which he has appeared to date.\n",
            "\n",
            "\n",
            "------------------------------------------\n",
            "\n",
            "\n"
          ]
        },
        {
          "output_type": "execute_result",
          "data": {
            "text/plain": [
              "3"
            ]
          },
          "metadata": {},
          "execution_count": 188
        }
      ]
    },
    {
      "cell_type": "code",
      "source": [],
      "metadata": {
        "id": "Lxs1sTk9zG9X"
      },
      "execution_count": null,
      "outputs": []
    }
  ]
}